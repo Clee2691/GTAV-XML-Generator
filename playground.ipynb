{
 "nbformat": 4,
 "nbformat_minor": 2,
 "metadata": {
  "language_info": {
   "name": "python",
   "codemirror_mode": {
    "name": "ipython",
    "version": 3
   },
   "version": "3.7.4-final"
  },
  "orig_nbformat": 2,
  "file_extension": ".py",
  "mimetype": "text/x-python",
  "name": "python",
  "npconvert_exporter": "python",
  "pygments_lexer": "ipython3",
  "version": 3,
  "kernelspec": {
   "name": "python37464bitvenvvenve9c1ae90b66648e1b1faed220c3b4031",
   "display_name": "Python 3.7.4 64-bit ('venv': venv)"
  }
 },
 "cells": [
  {
   "cell_type": "code",
   "execution_count": 1,
   "metadata": {},
   "outputs": [],
   "source": [
    "import xml_funcs\n",
    "\n",
    "import xml.etree.ElementTree as ET"
   ]
  },
  {
   "cell_type": "code",
   "execution_count": 17,
   "metadata": {},
   "outputs": [],
   "source": [
    "xml_parse = ET.parse(r'database/peds.ymt.xml')"
   ]
  },
  {
   "cell_type": "code",
   "execution_count": 18,
   "metadata": {},
   "outputs": [],
   "source": [
    "xml_root = xml_parse.getroot()"
   ]
  },
  {
   "cell_type": "code",
   "execution_count": 19,
   "metadata": {},
   "outputs": [
    {
     "data": {
      "text/plain": "'CPedModelInfo__InitDataList'"
     },
     "execution_count": 19,
     "metadata": {},
     "output_type": "execute_result"
    }
   ],
   "source": [
    "xml_root.tag"
   ]
  },
  {
   "cell_type": "code",
   "execution_count": 31,
   "metadata": {},
   "outputs": [
    {
     "name": "stdout",
     "output_type": "stream",
     "text": "residentTxd\nresidentAnims\nInitDatas\ntxdRelationships\nmultiTxdRelationships\n"
    }
   ],
   "source": [
    "for child in xml_root:\n",
    "    print(child.tag)"
   ]
  },
  {
   "cell_type": "code",
   "execution_count": 46,
   "metadata": {},
   "outputs": [
    {
     "name": "stdout",
     "output_type": "stream",
     "text": "683\n"
    }
   ],
   "source": [
    "init_data_node = xml_root.findall('./InitDatas/Item')\n",
    "print(len(init_data_node))\n",
    "# There are 683 different peds"
   ]
  },
  {
   "cell_type": "code",
   "execution_count": 53,
   "metadata": {},
   "outputs": [
    {
     "name": "stdout",
     "output_type": "stream",
     "text": "0\n"
    }
   ],
   "source": [
    "# All peds have 71 tags in it\n",
    "ped_tag_size = 71\n",
    "dif_len = []\n",
    "for item in init_data_node:\n",
    "    if len(item) != 71:\n",
    "        dif_len.append(item.find('Name').text)\n",
    "print(len(dif_len))\n",
    "    "
   ]
  },
  {
   "cell_type": "code",
   "execution_count": 54,
   "metadata": {},
   "outputs": [
    {
     "name": "stdout",
     "output_type": "stream",
     "text": "Item\nItem\nItem\nItem\nItem\nItem\nItem\nItem\nItem\nItem\nItem\nItem\nItem\nItem\nItem\nItem\nItem\nItem\nItem\nItem\nItem\nItem\nItem\nItem\nItem\nItem\nItem\nItem\nItem\nItem\nItem\nItem\nItem\nItem\nItem\nItem\nItem\nItem\nItem\nItem\nItem\nItem\nItem\nItem\nItem\nItem\nItem\nItem\nItem\nItem\nItem\nItem\nItem\nItem\nItem\nItem\nItem\nItem\nItem\nItem\nItem\nItem\nItem\nItem\nItem\nItem\nItem\nItem\nItem\nItem\nItem\nItem\nItem\nItem\nItem\nItem\nItem\nItem\nItem\nItem\nItem\nItem\nItem\nItem\nItem\nItem\nItem\nItem\nItem\nItem\nItem\nItem\nItem\nItem\nItem\nItem\nItem\nItem\nItem\nItem\nItem\nItem\nItem\nItem\nItem\nItem\nItem\nItem\nItem\nItem\nItem\nItem\nItem\nItem\nItem\nItem\nItem\nItem\nItem\nItem\nItem\nItem\nItem\nItem\nItem\nItem\nItem\nItem\nItem\nItem\nItem\nItem\nItem\nItem\nItem\nItem\nItem\nItem\nItem\nItem\nItem\nItem\nItem\nItem\nItem\nItem\nItem\nItem\nItem\nItem\nItem\nItem\nItem\nItem\nItem\nItem\nItem\nItem\nItem\nItem\nItem\nItem\nItem\nItem\nItem\nItem\nItem\nItem\nItem\nItem\nItem\nItem\nItem\nItem\nItem\nItem\nItem\nItem\nItem\nItem\nItem\nItem\nItem\nItem\nItem\nItem\nItem\nItem\nItem\nItem\nItem\nItem\nItem\nItem\nItem\nItem\nItem\nItem\nItem\nItem\nItem\nItem\nItem\nItem\nItem\nItem\nItem\nItem\nItem\nItem\nItem\nItem\nItem\nItem\nItem\nItem\nItem\nItem\nItem\nItem\nItem\nItem\nItem\nItem\nItem\nItem\nItem\nItem\nItem\nItem\nItem\nItem\nItem\nItem\nItem\nItem\nItem\nItem\nItem\nItem\nItem\nItem\nItem\nItem\nItem\nItem\nItem\nItem\nItem\nItem\nItem\nItem\nItem\nItem\nItem\nItem\nItem\nItem\nItem\nItem\nItem\nItem\nItem\nItem\nItem\nItem\nItem\nItem\nItem\nItem\nItem\nItem\nItem\nItem\nItem\nItem\nItem\nItem\nItem\nItem\nItem\nItem\nItem\nItem\nItem\nItem\nItem\nItem\nItem\nItem\nItem\nItem\nItem\nItem\nItem\nItem\nItem\nItem\nItem\nItem\nItem\nItem\nItem\nItem\nItem\nItem\nItem\nItem\nItem\nItem\nItem\nItem\nItem\nItem\nItem\nItem\nItem\nItem\nItem\nItem\nItem\nItem\nItem\nItem\nItem\nItem\nItem\nItem\nItem\nItem\nItem\nItem\nItem\nItem\nItem\nItem\nItem\nItem\nItem\nItem\nItem\nItem\nItem\nItem\nItem\nItem\nItem\nItem\nItem\nItem\nItem\nItem\nItem\nItem\nItem\nItem\nItem\nItem\nItem\nItem\nItem\nItem\nItem\nItem\nItem\nItem\nItem\nItem\nItem\nItem\nItem\nItem\nItem\nItem\nItem\nItem\nItem\nItem\nItem\nItem\nItem\nItem\nItem\nItem\nItem\nItem\nItem\nItem\nItem\nItem\nItem\nItem\nItem\nItem\nItem\nItem\nItem\nItem\nItem\nItem\nItem\nItem\nItem\nItem\nItem\nItem\nItem\nItem\nItem\nItem\nItem\nItem\nItem\nItem\nItem\nItem\nItem\nItem\nItem\nItem\nItem\nItem\nItem\nItem\nItem\nItem\nItem\nItem\nItem\nItem\nItem\nItem\nItem\nItem\nItem\nItem\nItem\nItem\nItem\nItem\nItem\nItem\nItem\nItem\nItem\nItem\nItem\nItem\nItem\nItem\nItem\nItem\nItem\nItem\nItem\nItem\nItem\nItem\nItem\nItem\nItem\nItem\nItem\nItem\nItem\nItem\nItem\nItem\nItem\nItem\nItem\nItem\nItem\nItem\nItem\nItem\nItem\nItem\nItem\nItem\nItem\nItem\nItem\nItem\nItem\nItem\nItem\nItem\nItem\nItem\nItem\nItem\nItem\nItem\nItem\nItem\nItem\nItem\nItem\nItem\nItem\nItem\nItem\nItem\nItem\nItem\nItem\nItem\nItem\nItem\nItem\nItem\nItem\nItem\nItem\nItem\nItem\nItem\nItem\nItem\nItem\nItem\nItem\nItem\nItem\nItem\nItem\nItem\nItem\nItem\nItem\nItem\nItem\nItem\nItem\nItem\nItem\nItem\nItem\nItem\nItem\nItem\nItem\nItem\nItem\nItem\nItem\nItem\nItem\nItem\nItem\nItem\nItem\nItem\nItem\nItem\nItem\nItem\nItem\nItem\nItem\nItem\nItem\nItem\nItem\nItem\nItem\nItem\nItem\nItem\nItem\nItem\nItem\nItem\nItem\nItem\nItem\nItem\nItem\nItem\nItem\nItem\nItem\nItem\nItem\nItem\nItem\nItem\nItem\nItem\nItem\nItem\nItem\nItem\nItem\nItem\nItem\nItem\nItem\nItem\nItem\nItem\nItem\nItem\nItem\nItem\nItem\nItem\nItem\nItem\nItem\nItem\nItem\nItem\nItem\nItem\nItem\nItem\nItem\nItem\nItem\nItem\nItem\nItem\nItem\nItem\nItem\nItem\nItem\nItem\nItem\nItem\nItem\nItem\nItem\nItem\nItem\nItem\nItem\nItem\nItem\nItem\nItem\nItem\nItem\nItem\nItem\nItem\nItem\nItem\nItem\nItem\nItem\nItem\nItem\nItem\nItem\nItem\nItem\nItem\nItem\nItem\nItem\nItem\nItem\nItem\nItem\nItem\nItem\nItem\nItem\nItem\nItem\nItem\nItem\nItem\nItem\nItem\nItem\nItem\nItem\nItem\nItem\n"
    }
   ],
   "source": [
    "for item in init_data_node:\n",
    "    print(item.tag)"
   ]
  },
  {
   "cell_type": "code",
   "execution_count": null,
   "metadata": {},
   "outputs": [],
   "source": []
  }
 ]
}