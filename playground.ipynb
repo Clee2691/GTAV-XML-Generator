{
 "nbformat": 4,
 "nbformat_minor": 2,
 "metadata": {
  "language_info": {
   "name": "python",
   "codemirror_mode": {
    "name": "ipython",
    "version": 3
   },
   "version": "3.7.4-final"
  },
  "orig_nbformat": 2,
  "file_extension": ".py",
  "mimetype": "text/x-python",
  "name": "python",
  "npconvert_exporter": "python",
  "pygments_lexer": "ipython3",
  "version": 3,
  "kernelspec": {
   "name": "python37464bitvenvvenve9c1ae90b66648e1b1faed220c3b4031",
   "display_name": "Python 3.7.4 64-bit ('venv': venv)"
  }
 },
 "cells": [
  {
   "cell_type": "code",
   "execution_count": 1,
   "metadata": {},
   "outputs": [],
   "source": [
    "import xml_funcs\n",
    "\n",
    "import xml.etree.ElementTree as ET"
   ]
  },
  {
   "cell_type": "code",
   "execution_count": 17,
   "metadata": {},
   "outputs": [],
   "source": [
    "xml_parse = ET.parse(r'database/peds.ymt.xml')"
   ]
  },
  {
   "cell_type": "code",
   "execution_count": 18,
   "metadata": {},
   "outputs": [],
   "source": [
    "xml_root = xml_parse.getroot()"
   ]
  },
  {
   "cell_type": "code",
   "execution_count": 19,
   "metadata": {},
   "outputs": [
    {
     "data": {
      "text/plain": "'CPedModelInfo__InitDataList'"
     },
     "execution_count": 19,
     "metadata": {},
     "output_type": "execute_result"
    }
   ],
   "source": [
    "xml_root.tag"
   ]
  },
  {
   "cell_type": "code",
   "execution_count": 31,
   "metadata": {},
   "outputs": [
    {
     "name": "stdout",
     "output_type": "stream",
     "text": "residentTxd\nresidentAnims\nInitDatas\ntxdRelationships\nmultiTxdRelationships\n"
    }
   ],
   "source": [
    "for child in xml_root:\n",
    "    print(child.tag)"
   ]
  },
  {
   "cell_type": "code",
   "execution_count": 55,
   "metadata": {},
   "outputs": [
    {
     "name": "stdout",
     "output_type": "stream",
     "text": "683\n"
    }
   ],
   "source": [
    "init_data_node = xml_root.findall('./InitDatas/Item')\n",
    "print(len(init_data_node))\n",
    "# There are 683 different peds"
   ]
  },
  {
   "cell_type": "code",
   "execution_count": 53,
   "metadata": {},
   "outputs": [
    {
     "name": "stdout",
     "output_type": "stream",
     "text": "0\n"
    }
   ],
   "source": [
    "# All peds have 71 tags in it\n",
    "ped_tag_size = 71\n",
    "dif_len = []\n",
    "for item in init_data_node:\n",
    "    if len(item) != 71:\n",
    "        dif_len.append(item.find('Name').text)\n",
    "print(len(dif_len))\n",
    "    "
   ]
  },
  {
   "cell_type": "code",
   "execution_count": 62,
   "metadata": {},
   "outputs": [
    {
     "name": "stdout",
     "output_type": "stream",
     "text": "Tag: Name | Value: Player_One\nTag: PropsName | Value: Player_One_p\nTag: ClipDictionaryName | Value: move_p_m_one\nTag: BlendShapeFileName | Value: null\nTag: ExpressionSetName | Value: None\nTag: ExpressionDictionaryName | Value: p_m_one\nTag: ExpressionName | Value: p_m_one\nTag: Pedtype | Value: PLAYER_1\nTag: MovementClipSet | Value: MOVE_P_M_ONE\nTag: MovementClipSets | Value: None\nTag: StrafeClipSet | Value: MOVE_PED_STRAFING\nTag: MovementToStrafeClipSet | Value: MOVE_PED_TO_STRAFE\nTag: InjuredStrafeClipSet | Value: MOVE_STRAFE_INJURED\nTag: FullBodyDamageClipSet | Value: DAM_KO\nTag: AdditiveDamageClipSet | Value: DAM_AD\nTag: DefaultGestureClipSet | Value: ANIM_GROUP_GESTURE_M_GENERIC\nTag: FacialClipsetGroupName | Value: facial_clipset_group_p_m_one\nTag: DefaultVisemeClipSet | Value: ANIM_GROUP_VISEMES_M_LO\nTag: SidestepClipSet | Value: CLIP_SET_ID_INVALID\nTag: PoseMatcherName | Value: Male\nTag: PoseMatcherProneName | Value: Male_prone\nTag: GetupSetHash | Value: NMBS_SLOW_GETUPS\nTag: CreatureMetadataName | Value: Player_Franklin\nTag: DecisionMakerName | Value: default\nTag: MotionTaskDataSetName | Value: PLAYER_ONE\nTag: DefaultTaskDataSetName | Value: STANDARD_PED\nTag: PedCapsuleName | Value: STANDARD_PLAYER_MALE\nTag: PedLayoutName | Value: None\nTag: PedComponentSetName | Value: player\nTag: PedComponentClothName | Value: None\nTag: PedIKSettingsName | Value: None\nTag: TaskDataName | Value: None\nTag: IsStreamedGfx | Value: None\nTag: AmbulanceShouldRespondTo | Value: None\nTag: CanRideBikeWithNoHelmet | Value: None\nTag: CanSpawnInCar | Value: None\nTag: IsHeadBlendPed | Value: None\nTag: bOnlyBulkyItemVariations | Value: None\nTag: RelationshipGroup | Value: CIVMALE\nTag: NavCapabilitiesName | Value: STANDARD_PED\nTag: PerceptionInfo | Value: DEFAULT_PERCEPTION\nTag: DefaultBrawlingStyle | Value: BS_FRANKLIN\nTag: DefaultUnarmedWeapon | Value: WEAPON_UNARMED\nTag: Personality | Value: FRANKLIN\nTag: CombatInfo | Value: FRANKLIN\nTag: VfxInfoName | Value: VFXPEDINFO_HUMAN_GENERIC\nTag: AmbientClipsForFlee | Value: FLEE\nTag: Radio1 | Value: RADIO_GENRE_MODERN_HIPHOP\nTag: Radio2 | Value: RADIO_GENRE_CLASSIC_HIPHOP\nTag: FUpOffset | Value: None\nTag: RUpOffset | Value: None\nTag: FFrontOffset | Value: None\nTag: RFrontOffset | Value: None\nTag: MinActivationImpulse | Value: None\nTag: Stubble | Value: None\nTag: HDDist | Value: None\nTag: TargetingThreatModifier | Value: None\nTag: KilledPerceptionRangeModifer | Value: None\nTag: Sexiness | Value: None\nTag: Age | Value: None\nTag: MaxPassengersInCar | Value: None\nTag: ExternallyDrivenDOFs | Value: None\nTag: PedVoiceGroup | Value: MALE_BRAVE_PVG\nTag: AnimalAudioObject | Value: None\nTag: AbilityType | Value: SAT_CAR_SLOWDOWN\nTag: ThermalBehaviour | Value: TB_WARM\nTag: SuperlodType | Value: SLOD_HUMAN\nTag: ScenarioPopStreamingSlot | Value: SCENARIO_POP_STREAMING_NORMAL\nTag: DefaultSpawningPreference | Value: DSP_NORMAL\nTag: DefaultRemoveRangeMultiplier | Value: None\nTag: AllowCloseSpawning | Value: None\n"
    }
   ],
   "source": [
    "ped_item = xml_root.find('./InitDatas/Item')\n",
    "\n",
    "#print(len(ped_item))\n",
    "\n",
    "for tag in ped_item:\n",
    "    print(f'Tag: {tag.tag} | Value: {tag.text}')"
   ]
  },
  {
   "cell_type": "code",
   "execution_count": 153,
   "metadata": {},
   "outputs": [],
   "source": [
    "ped_tag_value_dict = {}\n",
    "\n",
    "for ped in init_data_node:\n",
    "    for ped_attributes in ped:\n",
    "        if ped_attributes.tag not in ped_tag_value_dict:\n",
    "            if len(ped_attributes) > 0:\n",
    "                ped_tag_value_dict[ped_attribute.tag] = {ped_attributes}\n",
    "            elif (not ped_attributes.attrib) and (not ped_attributes.text):\n",
    "                ped_tag_value_dict[ped_attributes.tag] = {None}\n",
    "            elif ped_attributes.text:\n",
    "                ped_tag_value_dict[ped_attributes.tag] = {ped_attributes.text}\n",
    "            else:\n",
    "                ped_tag_value_dict[ped_attributes.tag] = {ped_attributes.attrib['value']}\n",
    "\n",
    "        elif (ped_attributes.tag in ped_tag_value_dict) and (not ped_attributes.attrib) and (len(ped_attributes) == 0):\n",
    "            ped_tag_value_dict[ped_attributes.tag].add(ped_attributes.text)\n",
    "        elif (ped_attributes.tag in ped_tag_value_dict) and (len(ped_attributes) > 0):\n",
    "            ped_tag_value_dict[ped_attributes.tag].add(ped_attributes)\n"
   ]
  },
  {
   "cell_type": "code",
   "execution_count": 129,
   "metadata": {},
   "outputs": [
    {
     "name": "stdout",
     "output_type": "stream",
     "text": "71\n{'COUGAR', 'Rabbit', 'STINGRAY', 'DEER', 'KILLERWHALE', 'Fish', 'HUMPBACK', 'PIGEON', 'retriever', 'BOAR', 'sharkhammer', 'COYOTE', 'SHARK', 'Dolphin', 'PIG', 'pug', 'a_a_hen', 'Cat', 'Male', 'rottweiler', 'COW', 'seagull', 'Cormorant', 'RAT', 'Chickenhawk', 'Crow'}\n"
    }
   ],
   "source": [
    "print(len(ped_tag_value_dict))\n",
    "print(ped_tag_value_dict['PoseMatcherName'])\n",
    "#print(len(ped_tag_value_dict['PedLayoutName']))"
   ]
  },
  {
   "cell_type": "code",
   "execution_count": 157,
   "metadata": {},
   "outputs": [
    {
     "name": "stdout",
     "output_type": "stream",
     "text": "1. Key: Name | Num of Values: 683\n2. Key: PropsName | Num of Values: 496\n3. Key: ClipDictionaryName | Num of Values: 45\n4. Key: BlendShapeFileName | Num of Values: 1\n5. Key: ExpressionSetName | Num of Values: {'expr_set_ambient_male_skirt', 'expr_set_mp_m_freemode_01', 'expr_set_hookers_hiheels', 'expr_set_mp_f_freemode_01', 'expr_set_ambient_female_skirt', 'expr_set_ambient_female_heels_skirt', 'expr_set_ambient_female_hiheels', None, 'null', 'expr_set_ambient_male_shortsLong', 'expr_set_ambient_male_shorts', 'expr_set_ambient_male', 'expr_set_hookers_heels', 'expr_set_ambient_female_heels', 'expr_set_firemen', 'expr_set_ambient_female'}\n6. Key: ExpressionDictionaryName | Num of Values: 155\n7. Key: ExpressionName | Num of Values: 156\n8. Key: Pedtype | Num of Values: 11\n9. Key: MovementClipSet | Num of Values: 97\n10. Key: MovementClipSets | Num of Values: {<Element 'MovementClipSets' at 0x000001DD65410818>, <Element 'MovementClipSets' at 0x000001DD6553C048>, <Element 'MovementClipSets' at 0x000001DD65570868>, <Element 'MovementClipSets' at 0x000001DD6557E0E8>, <Element 'MovementClipSets' at 0x000001DD655EF0E8>, <Element 'MovementClipSets' at 0x000001DD65A080E8>, <Element 'MovementClipSets' at 0x000001DD654D8138>, <Element 'MovementClipSets' at 0x000001DD656A8138>, <Element 'MovementClipSets' at 0x000001DD65226A48>, <Element 'MovementClipSets' at 0x000001DD65323318>, <Element 'MovementClipSets' at 0x000001DD654F9318>, <Element 'MovementClipSets' at 0x000001DD65A0F368>, <Element 'MovementClipSets' at 0x000001DD65247B88>, <Element 'MovementClipSets' at 0x000001DD6443F408>, <Element 'MovementClipSets' at 0x000001DD6556A458>, <Element 'MovementClipSets' at 0x000001DD652BEC78>, <Element 'MovementClipSets' at 0x000001DD65416C78>, <Element 'MovementClipSets' at 0x000001DD6550BCC8>, None, <Element 'MovementClipSets' at 0x000001DD653FBD18>, <Element 'MovementClipSets' at 0x000001DD6560EDB8>, <Element 'MovementClipSets' at 0x000001DD655AC5E8>, <Element 'MovementClipSets' at 0x000001DD65A165E8>, <Element 'MovementClipSets' at 0x000001DD65474688>, <Element 'MovementClipSets' at 0x000001DD65657EF8>, <Element 'MovementClipSets' at 0x000001DD656B5778>}\n11. Key: StrafeClipSet | Num of Values: 3\n12. Key: MovementToStrafeClipSet | Num of Values: 1\n13. Key: InjuredStrafeClipSet | Num of Values: 1\n14. Key: FullBodyDamageClipSet | Num of Values: 1\n15. Key: AdditiveDamageClipSet | Num of Values: 2\n16. Key: DefaultGestureClipSet | Num of Values: 4\n17. Key: FacialClipsetGroupName | Num of Values: 8\n18. Key: DefaultVisemeClipSet | Num of Values: 3\n19. Key: SidestepClipSet | Num of Values: 8\n20. Key: PoseMatcherName | Num of Values: 26\n21. Key: PoseMatcherProneName | Num of Values: 2\n22. Key: GetupSetHash | Num of Values: 14\n23. Key: CreatureMetadataName | Num of Values: 13\n24. Key: DecisionMakerName | Num of Values: 20\n25. Key: MotionTaskDataSetName | Num of Values: 22\n26. Key: DefaultTaskDataSetName | Num of Values: 2\n27. Key: PedCapsuleName | Num of Values: 29\n28. Key: PedLayoutName | Num of Values: {None}\n29. Key: PedComponentSetName | Num of Values: {'Hen', 'HIPPIE', None, 'player', 'Fish', 'Animal'}\n30. Key: PedComponentClothName | Num of Values: {None, 'player'}\n31. Key: PedIKSettingsName | Num of Values: {'NO_IK', 'STANDARD_DOG_IK', None}\n32. Key: TaskDataName | Num of Values: {'KILLERWHALE', 'DOG', 'STINGRAY', None, 'Cat', 'TigerShark', 'Whale', 'LargeFish', 'Fish', 'Animal'}\n33. Key: IsStreamedGfx | Num of Values: 1\n34. Key: AmbulanceShouldRespondTo | Num of Values: 1\n35. Key: CanRideBikeWithNoHelmet | Num of Values: 1\n36. Key: CanSpawnInCar | Num of Values: 1\n37. Key: IsHeadBlendPed | Num of Values: 1\n38. Key: bOnlyBulkyItemVariations | Num of Values: 1\n39. Key: RelationshipGroup | Num of Values: 26\n40. Key: NavCapabilitiesName | Num of Values: 9\n41. Key: PerceptionInfo | Num of Values: 5\n42. Key: DefaultBrawlingStyle | Num of Values: 21\n43. Key: DefaultUnarmedWeapon | Num of Values: 16\n44. Key: Personality | Num of Values: 89\n45. Key: CombatInfo | Num of Values: 14\n46. Key: VfxInfoName | Num of Values: 14\n47. Key: AmbientClipsForFlee | Num of Values: 1\n48. Key: Radio1 | Num of Values: 16\n49. Key: Radio2 | Num of Values: 16\n50. Key: FUpOffset | Num of Values: 1\n51. Key: RUpOffset | Num of Values: 1\n52. Key: FFrontOffset | Num of Values: 1\n53. Key: RFrontOffset | Num of Values: 1\n54. Key: MinActivationImpulse | Num of Values: 1\n55. Key: Stubble | Num of Values: 1\n56. Key: HDDist | Num of Values: 1\n57. Key: TargetingThreatModifier | Num of Values: 1\n58. Key: KilledPerceptionRangeModifer | Num of Values: 1\n59. Key: Sexiness | Num of Values: {'SF_JEER_AT_HOT_PED', 'SF_HOT_PERSON', None}\n60. Key: Age | Num of Values: 1\n61. Key: MaxPassengersInCar | Num of Values: 1\n62. Key: ExternallyDrivenDOFs | Num of Values: {None}\n63. Key: PedVoiceGroup | Num of Values: 257\n64. Key: AnimalAudioObject | Num of Values: {'ANIMAL_PARAMS_RETRIEVER', 'ANIMAL_PARAMS_RABBIT', 'ANIMAL_PARAMS_CHICKENHAWK', 'ANIMAL_PARAMS_PIGEON', 'ANIMAL_PARAMS_ELK', 'ANIMAL_PARAMS_CHIMP', 'ANIMAL_PARAMS_HEN', 'ANIMAL_PARAMS_DOG_ROTTWEILER', 'ANIMAL_PARAMS_RAT', 'ANIMAL_PARAMS_SEAGULL', 'ANIMAL_PARAMS_FISH', 'ANIMAL_PARAMS_Cormorant', 'ANIMAL_PARAMS_MOUNTAIN_LION', None, 'ANIMAL_PARAMS_PIG', 'ANIMAL_PARAMS_CROW', 'ANIMAL_PARAMS_COYOTE', 'ANIMAL_PARAMS_HUSKY', 'ANIMAL_PARAMS_DOLPHIN', 'ANIMAL_PARAMS_WHALE', 'ANIMAL_PARAMS_SHEPHERD', 'ANIMAL_PARAMS_SMALLDOG', 'ANIMAL_PARAMS_BOAR', 'ANIMAL_PARAMS_RHESUS', 'ANIMAL_PARAMS_CAT', 'ANIMAL_PARAMS_COW', 'ANIMAL_PARAMS_KILLERWHALE'}\n65. Key: AbilityType | Num of Values: 4\n66. Key: ThermalBehaviour | Num of Values: 3\n67. Key: SuperlodType | Num of Values: 5\n68. Key: ScenarioPopStreamingSlot | Num of Values: 2\n69. Key: DefaultSpawningPreference | Num of Values: 3\n70. Key: DefaultRemoveRangeMultiplier | Num of Values: 1\n71. Key: AllowCloseSpawning | Num of Values: 1\n"
    }
   ],
   "source": [
    "count = 1\n",
    "for k, v in ped_tag_value_dict.items():\n",
    "    if None not in v:\n",
    "        print(f'{count}. Key: {k} | Num of Values: {len(v)}')\n",
    "    else:\n",
    "        print(f'{count}. Key: {k} | Num of Values: {v}')\n",
    "    count += 1"
   ]
  },
  {
   "cell_type": "code",
   "execution_count": null,
   "metadata": {},
   "outputs": [],
   "source": []
  }
 ]
}